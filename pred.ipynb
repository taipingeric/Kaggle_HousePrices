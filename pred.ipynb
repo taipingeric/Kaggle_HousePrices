{
 "cells": [
  {
   "cell_type": "code",
   "execution_count": 97,
   "metadata": {},
   "outputs": [],
   "source": [
    "import numpy as np\n",
    "import pandas as pd\n",
    "import sklearn\n",
    "from xgboost import XGBRegressor\n",
    "from sklearn.preprocessing import LabelEncoder\n",
    "from sklearn.decomposition import PCA\n"
   ]
  },
  {
   "cell_type": "code",
   "execution_count": 98,
   "metadata": {},
   "outputs": [
    {
     "name": "stdout",
     "output_type": "stream",
     "text": [
      "(2919, 79)\n"
     ]
    }
   ],
   "source": [
    "#read file\n",
    "X_raw = pd.read_csv('train.csv')\n",
    "X_test_raw = pd.read_csv('test.csv')\n",
    "\n",
    "y = X_raw['SalePrice']\n",
    "X_raw = X_raw.drop(['Id'], axis=1)\n",
    "X_test_raw = X_test_raw.drop(['Id'], axis=1)\n",
    "\n",
    "X_raw = X_raw.drop(['SalePrice'], axis=1)\n",
    "\n",
    "# 1460, 80\n",
    "# 1459, 80\n",
    "X_mix = X_raw.append(X_test_raw)\n"
   ]
  },
  {
   "cell_type": "code",
   "execution_count": 99,
   "metadata": {},
   "outputs": [],
   "source": [
    "\n",
    "# clean\n",
    "def clean(x):\n",
    "    # general\n",
    "    def drop_columns_with_missing_data(x):\n",
    "        col_removed = ['Alley', 'FireplaceQu', 'PoolQC', 'Fence', 'MiscFeature']\n",
    "        x = x.drop(col_removed, axis=1)\n",
    "        return x\n",
    "    \n",
    "    def replace_missing_value(x):\n",
    "        def replace_nan(x, col, value):\n",
    "            x[col] = x[col].fillna(value)\n",
    "            return x\n",
    "        def replace_with_mean(x):\n",
    "            col_replace_with_mean = ['LotFrontage']\n",
    "            for col in col_replace_with_mean:\n",
    "                mean = x[col].mean()\n",
    "                x[col] = x[col].fillna(mean)\n",
    "            return x\n",
    "        def replace_GarageYrBlt(x):\n",
    "            temp = x[x['GarageType'] == 'Attchd']\n",
    "            mean = x['GarageYrBlt'].mean()\n",
    "            x['GarageYrBlt'] = x['GarageYrBlt'].fillna(mean)\n",
    "            return x\n",
    "        \n",
    "        x = replace_with_mean(x)\n",
    "        x = replace_nan(x, col=['MasVnrType'], value='None')\n",
    "        x = replace_nan(x, col=['MasVnrArea'], value=0)\n",
    "        x = replace_nan(x, col=['BsmtQual', 'BsmtCond', 'GarageQual', 'GarageCond'], value='TA')\n",
    "        x = replace_nan(x, col=['BsmtExposure'], value='No')\n",
    "        x = replace_nan(x, col=['BsmtFinType1', 'BsmtFinType2', 'GarageFinish'], value='Unf')\n",
    "        x = replace_nan(x, col=['Electrical'], value='SBrkr')\n",
    "        x = replace_nan(x, col=['GarageType'], value='Attchd')\n",
    "        x = replace_GarageYrBlt(x)\n",
    "        return x\n",
    "    \n",
    "    x = drop_columns_with_missing_data(x)\n",
    "    x = replace_missing_value(x)\n",
    "    return x\n",
    "\n",
    "def encoding(x):\n",
    "    def encoding_dummy(x):\n",
    "        dummy_features = ['RoofMatl', 'HouseStyle', 'Heating', 'Exterior1st', 'Exterior2nd', 'Electrical', \n",
    "                          'Condition2', 'MSZoning', 'Street', 'LotShape', 'LandContour', 'Utilities', \n",
    "                          'LotConfig', 'Neighborhood', 'Condition1', 'BldgType', 'RoofStyle', \n",
    "                          'MasVnrType', 'Foundation', 'BsmtFinType1', 'BsmtFinType2', 'Functional', \n",
    "                          'GarageType', 'GarageFinish', 'PavedDrive', 'SaleType', 'SaleCondition']    \n",
    "        for feature in dummy_features:\n",
    "            x =  pd.concat([x, pd.get_dummies(x[feature], drop_first=True, prefix=feature)], axis=1) \n",
    "            x = x.drop(feature, 1)\n",
    "        return x\n",
    "    def encoding_quality(x):\n",
    "        quality_features = ['ExterQual', 'ExterCond', 'BsmtQual', 'BsmtCond', 'HeatingQC', 'KitchenQual', \n",
    "                            'GarageQual', 'GarageCond']\n",
    "        quality_map = {'Ex': 5, 'Gd': 4, 'TA': 3, 'Fa': 2, 'Po':1}\n",
    "        for feature in quality_features:\n",
    "            x[feature] = x[feature].map(quality_map)\n",
    "        return x\n",
    "    def encoding_BsmtExposure(x):\n",
    "        mapping = {'Gd': 4, 'Av': 3, 'Mn': 2, 'No': 1}\n",
    "        x['BsmtExposure'] = x['BsmtExposure'].map(mapping)\n",
    "        return x\n",
    "    def encoding_CentralAir(x):\n",
    "        mapping = {'Y':1, 'N': 0}\n",
    "        x['CentralAir'] = x['CentralAir'].map(mapping)\n",
    "        return x\n",
    "    def encoding_LandSlope(x):\n",
    "        mapping = {'Gtl': 2, 'Mod': 1, 'Sev': 0}\n",
    "        x['LandSlope'] = x['LandSlope'].map(mapping)\n",
    "        return x\n",
    "    \n",
    "    x = encoding_dummy(x)\n",
    "    x = encoding_quality(x)\n",
    "    x = encoding_BsmtExposure(x)\n",
    "    x = encoding_CentralAir(x)\n",
    "    x = encoding_LandSlope(x)\n",
    "    return x\n",
    "\n",
    "X = clean(X_mix)\n",
    "X = encoding(X)\n",
    "\n",
    "\n",
    "X_train = X.iloc[:1460,:]\n",
    "X_test = X.iloc[1460:,:]\n"
   ]
  },
  {
   "cell_type": "code",
   "execution_count": 100,
   "metadata": {},
   "outputs": [],
   "source": [
    "\n",
    "# training\n",
    "model = XGBRegressor().fit(X_train, y)\n",
    "y_test = model.predict(X_test)\n",
    "result = pd.DataFrame({'Id': range(1461, 2920), 'SalePrice': y_test})\n",
    "result.to_csv('result.csv', index=False)"
   ]
  },
  {
   "cell_type": "code",
   "execution_count": null,
   "metadata": {},
   "outputs": [],
   "source": []
  }
 ],
 "metadata": {
  "kernelspec": {
   "display_name": "Python 3",
   "language": "python",
   "name": "python3"
  },
  "language_info": {
   "codemirror_mode": {
    "name": "ipython",
    "version": 3
   },
   "file_extension": ".py",
   "mimetype": "text/x-python",
   "name": "python",
   "nbconvert_exporter": "python",
   "pygments_lexer": "ipython3",
   "version": "3.6.3"
  }
 },
 "nbformat": 4,
 "nbformat_minor": 2
}
